{
 "cells": [
  {
   "cell_type": "markdown",
   "metadata": {},
   "source": [
    "## Support Vector Machines"
   ]
  },
  {
   "cell_type": "markdown",
   "metadata": {},
   "source": [
    "### 1.  Import Required Libraries\n",
    "Import the necessary libraries, including NumPy, sklearn.svm, and matplotlib.pyplot."
   ]
  },
  {
   "cell_type": "code",
   "execution_count": 2,
   "metadata": {},
   "outputs": [
    {
     "ename": "ModuleNotFoundError",
     "evalue": "No module named 'numpy'",
     "output_type": "error",
     "traceback": [
      "\u001b[0;31m---------------------------------------------------------------------------\u001b[0m",
      "\u001b[0;31mModuleNotFoundError\u001b[0m                       Traceback (most recent call last)",
      "Cell \u001b[0;32mIn[2], line 3\u001b[0m\n\u001b[1;32m      1\u001b[0m \u001b[38;5;66;03m# **** TODO **** Importing the required libraries\u001b[39;00m\n\u001b[0;32m----> 3\u001b[0m \u001b[38;5;28;01mimport\u001b[39;00m \u001b[38;5;21;01mnumpy\u001b[39;00m \u001b[38;5;28;01mas\u001b[39;00m \u001b[38;5;21;01mnp\u001b[39;00m\n\u001b[1;32m      4\u001b[0m \u001b[38;5;28;01mimport\u001b[39;00m \u001b[38;5;21;01mmatplotlib\u001b[39;00m\u001b[38;5;21;01m.\u001b[39;00m\u001b[38;5;21;01mpyplot\u001b[39;00m \u001b[38;5;28;01mas\u001b[39;00m \u001b[38;5;21;01mplt\u001b[39;00m\n\u001b[1;32m      5\u001b[0m \u001b[38;5;28;01mfrom\u001b[39;00m \u001b[38;5;21;01msklearn\u001b[39;00m \u001b[38;5;28;01mimport\u001b[39;00m svm\n",
      "\u001b[0;31mModuleNotFoundError\u001b[0m: No module named 'numpy'"
     ]
    }
   ],
   "source": [
    "# **** TODO **** Importing the required libraries\n",
    "\n",
    "import numpy as np\n",
    "import matplotlib.pyplot as plt\n",
    "from sklearn import svm\n",
    "from sklearn.datasets import make_blobs, make_circles\n",
    "import plotly.graph_objects as go\n",
    "import plotly.offline as pyo"
   ]
  },
  {
   "cell_type": "markdown",
   "metadata": {},
   "source": [
    "### 2. Linear Separability: ####"
   ]
  },
  {
   "cell_type": "code",
   "execution_count": 1,
   "metadata": {},
   "outputs": [
    {
     "ename": "NameError",
     "evalue": "name 'np' is not defined",
     "output_type": "error",
     "traceback": [
      "\u001b[0;31m---------------------------------------------------------------------------\u001b[0m",
      "\u001b[0;31mNameError\u001b[0m                                 Traceback (most recent call last)",
      "Cell \u001b[0;32mIn[1], line 2\u001b[0m\n\u001b[1;32m      1\u001b[0m \u001b[38;5;66;03m# Original dataset\u001b[39;00m\n\u001b[0;32m----> 2\u001b[0m class_A \u001b[38;5;241m=\u001b[39m \u001b[43mnp\u001b[49m\u001b[38;5;241m.\u001b[39marray([\u001b[38;5;241m-\u001b[39m\u001b[38;5;241m2.4\u001b[39m, \u001b[38;5;241m-\u001b[39m\u001b[38;5;241m3\u001b[39m, \u001b[38;5;241m-\u001b[39m\u001b[38;5;241m1\u001b[39m])\n\u001b[1;32m      3\u001b[0m class_B \u001b[38;5;241m=\u001b[39m np\u001b[38;5;241m.\u001b[39marray([\u001b[38;5;241m1.5\u001b[39m, \u001b[38;5;241m1\u001b[39m, \u001b[38;5;241m2.5\u001b[39m])\n\u001b[1;32m      5\u001b[0m \u001b[38;5;66;03m# Plot the 1D points\u001b[39;00m\n",
      "\u001b[0;31mNameError\u001b[0m: name 'np' is not defined"
     ]
    }
   ],
   "source": [
    "# Original dataset\n",
    "class_A = np.array([-2.4, -3, -1])\n",
    "class_B = np.array([1.5, 1, 2.5])\n",
    "\n",
    "# Plot the 1D points\n",
    "plt.figure(figsize=(8, 1))\n",
    "plt.scatter(class_A, np.zeros_like(class_A), color='blue', label='Class A')\n",
    "plt.scatter(class_B, np.zeros_like(class_B), color='red', label='Class B')\n",
    "\n",
    "# Annotate each point\n",
    "for i, point in enumerate(class_A):\n",
    "    plt.annotate(f'{point}', (point, 0), textcoords=\"offset points\", xytext=(0,10), ha='center')\n",
    "for i, point in enumerate(class_B):\n",
    "    plt.annotate(f'{point}', (point, 0), textcoords=\"offset points\", xytext=(0,10), ha='center')\n",
    "\n",
    "# Add a line for the x-axis\n",
    "plt.axhline(y=0, color='black', linewidth=0.5)\n",
    "\n",
    "plt.title('1D Points')\n",
    "plt.xlabel('X')\n",
    "plt.yticks([])  # Hide the y-axis\n",
    "plt.legend(loc='upper center', bbox_to_anchor=(0.5, -0.05), ncol=2)\n",
    "plt.show()"
   ]
  },
  {
   "cell_type": "markdown",
   "metadata": {},
   "source": [
    "### 3. Now what?"
   ]
  },
  {
   "cell_type": "code",
   "execution_count": null,
   "metadata": {},
   "outputs": [],
   "source": [
    "# Original dataset\n",
    "class_A = np.array([-2, -3, -2.5, 2.5, 3])\n",
    "class_B = np.array([0.5, 1, -0.5, -1])\n",
    "\n",
    "# Plot the 1D points\n",
    "plt.figure(figsize=(8, 1))\n",
    "plt.scatter(class_A, np.zeros_like(class_A), color='blue', label='Class A')\n",
    "plt.scatter(class_B, np.zeros_like(class_B), color='red', label='Class B')\n",
    "\n",
    "# Annotate each point\n",
    "for i, point in enumerate(class_A):\n",
    "    plt.annotate(f'{point}', (point, 0), textcoords=\"offset points\", xytext=(0,10), ha='center')\n",
    "for i, point in enumerate(class_B):\n",
    "    plt.annotate(f'{point}', (point, 0), textcoords=\"offset points\", xytext=(0,10), ha='center')\n",
    "\n",
    "# Add a line for the x-axis\n",
    "plt.axhline(y=0, color='black', linewidth=0.5)\n",
    "\n",
    "plt.title('1D Points')\n",
    "plt.xlabel('X')\n",
    "plt.yticks([])  # Hide the y-axis\n",
    "plt.legend(loc='upper center', bbox_to_anchor=(0.5, -0.05), ncol=2)\n",
    "plt.show()"
   ]
  },
  {
   "cell_type": "markdown",
   "metadata": {},
   "source": [
    "### 4. Engineer Feature"
   ]
  },
  {
   "cell_type": "code",
   "execution_count": null,
   "metadata": {},
   "outputs": [],
   "source": [
    "import numpy as np\n",
    "# Original dataset\n",
    "class_A = np.array([-2, -3, -2.5, 2.5, 3])\n",
    "class_B = np.array([0.5, 1, -0.5, -1])\n",
    "\n",
    "# **** TODO ****: \n",
    "\n",
    "\n",
    "\n",
    "# Add second dimension by squaring the original dimension\n",
    "class_A_points_2d = np.column_stack((class_A, class_A_squared))\n",
    "class_B_points_2d = np.column_stack((class_B, class_B_squared))\n",
    "\n",
    "\n",
    "print(\"Class B points (2D):\", class_B_points_2d)\n",
    "print(\"Class A points (2D):\", class_A_points_2d)"
   ]
  },
  {
   "cell_type": "markdown",
   "metadata": {},
   "source": [
    "### 5. Plot the engineered data points."
   ]
  },
  {
   "cell_type": "code",
   "execution_count": null,
   "metadata": {},
   "outputs": [],
   "source": [
    "# Plot the 2D points\n",
    "plt.figure(figsize=(8, 6))\n",
    "plt.scatter(class_B_points_2d[:, 0], class_B_points_2d[:, 1], color='red', label='Class B')\n",
    "plt.scatter(class_A_points_2d[:, 0], class_A_points_2d[:, 1], color='blue', label='Class A')\n",
    "\n",
    "# Annotate each point\n",
    "for i, point in enumerate(class_B_points_2d):\n",
    "    plt.annotate(f'({point[0]},{point[1]})', (point[0], point[1]), textcoords=\"offset points\", xytext=(0,10), ha='center')\n",
    "for i, point in enumerate(class_A_points_2d):\n",
    "    plt.annotate(f'({point[0]},{point[1]})', (point[0], point[1]), textcoords=\"offset points\", xytext=(0,10), ha='center')\n",
    "\n",
    "plt.title('2D Points')\n",
    "plt.xlabel('X')\n",
    "plt.ylabel('Y')\n",
    "\n",
    "# Center the legend\n",
    "plt.legend(loc='upper center', bbox_to_anchor=(0.5, -0.05), ncol=2)\n",
    "plt.show()"
   ]
  },
  {
   "cell_type": "markdown",
   "metadata": {},
   "source": [
    "### 6.  Generate and Plot Random Circles Dataset\n",
    "Generate a random circles dataset using sklearn's make_circles function and plot it using matplotlib."
   ]
  },
  {
   "cell_type": "code",
   "execution_count": null,
   "metadata": {},
   "outputs": [],
   "source": [
    "# Generate random circles dataset\n",
    "X, y = make_circles(n_samples=100, noise=0.05, factor=0.5, random_state=42)\n",
    "\n",
    "# Plot the dataset\n",
    "plt.scatter(X[:, 0], X[:, 1], c=y, cmap='viridis')\n",
    "plt.xlabel('X')\n",
    "plt.ylabel('Y')\n",
    "plt.title('Random Circles Dataset')\n",
    "plt.show()"
   ]
  },
  {
   "cell_type": "markdown",
   "metadata": {},
   "source": [
    "### 7.  Feature engineering to Higher Dimension"
   ]
  },
  {
   "cell_type": "code",
   "execution_count": null,
   "metadata": {},
   "outputs": [],
   "source": [
    "# **** TODO **** Calculate the z values\n",
    "\n",
    "\n",
    "# Create a 3D scatter plot\n",
    "fig = go.Figure(data=[go.Scatter3d(x=X[:, 0], y=X[:, 1], z=z, mode='markers', \n",
    "                                   marker=dict(color=y, colorscale='Viridis', size=5))])\n",
    "\n",
    "# Adjust the view to look from the top of the z-axis\n",
    "camera = dict(up=dict(x=0, y=0, z=4), center=dict(x=0, y=0, z=0), eye=dict(x=0, y=0, z=2.4))\n",
    "fig.update_layout(scene=dict(xaxis_title='Y', yaxis_title='X', zaxis_title='Z', \n",
    "                             camera=camera), \n",
    "                  title='Support Vector Machine Kernel Visualised')\n",
    "fig.show()\n",
    "\n",
    "# Create the interactive HTML plot\n",
    "# pyo.plot(fig, filename='06_Kernel_3d_plot.html')"
   ]
  },
  {
   "cell_type": "markdown",
   "metadata": {},
   "source": [
    "### 8.  Create Linearly Separable Points\n",
    "Use the make_blobs function from sklearn.datasets to create a set of linearly separable points.\n",
    "\n",
    "### Visualize the Points\n",
    "Use matplotlib to create a scatter plot of the points, color-coded by class."
   ]
  },
  {
   "cell_type": "code",
   "execution_count": null,
   "metadata": {},
   "outputs": [],
   "source": [
    "# **** TODO **** Create linearly separable points\n",
    "X, y = make_blobs(n_samples=18, centers=[], random_state=4)\n",
    "\n",
    "# Visualize the points\n",
    "plt.figure(figsize=(8, 6))\n",
    "plt.scatter(X[:, 0], X[:, 1], c=y, s=30, cmap=plt.cm.Paired)\n",
    "plt.title('Scatter plot of the points')\n",
    "plt.xlabel('Feature 1')\n",
    "plt.ylabel('Feature 2')\n",
    "plt.show()"
   ]
  },
  {
   "cell_type": "markdown",
   "metadata": {},
   "source": [
    "### 9.  Fit the SVM Model\n",
    "Create an instance of the SVC class with a linear kernel and a large C parameter, then fit it to the data."
   ]
  },
  {
   "cell_type": "code",
   "execution_count": 9,
   "metadata": {},
   "outputs": [],
   "source": [
    "# **** TODO **** Create an instance of the SVC class\n",
    "\n",
    "\n",
    "# **** TODO **** Fit the model to the data\n"
   ]
  },
  {
   "cell_type": "markdown",
   "metadata": {},
   "source": [
    "### 10.  Visualize the Dataset and SVM Decision Boundary\n",
    "Plot the dataset and the decision boundary of the SVM, including the margins and the support vectors."
   ]
  },
  {
   "cell_type": "code",
   "execution_count": null,
   "metadata": {},
   "outputs": [],
   "source": [
    "# Plot the dataset\n",
    "plt.figure(figsize=(8, 6))\n",
    "plt.scatter(X[:, 0], X[:, 1], c=y, s=30, cmap=plt.cm.Paired)\n",
    "plt.title('Scatter plot of the points with SVM decision boundary')\n",
    "plt.xlabel('Feature 1')\n",
    "plt.ylabel('Feature 2')\n",
    "\n",
    "# Plot the decision function\n",
    "ax = plt.gca()\n",
    "xlim = ax.get_xlim()\n",
    "ylim = ax.get_ylim()\n",
    "\n",
    "# Create grid to evaluate model\n",
    "xx = np.linspace(xlim[0], xlim[1], 30)\n",
    "yy = np.linspace(ylim[0], ylim[1], 30)\n",
    "YY, XX = np.meshgrid(yy, xx)\n",
    "xy = np.vstack([XX.ravel(), YY.ravel()]).T\n",
    "Z = svm.decision_function(xy).reshape(XX.shape)\n",
    "\n",
    "# Plot decision boundary and margins\n",
    "ax.contour(XX, YY, Z, colors='k', levels=[-1, 0, 1], alpha=0.5, linestyles=['--', '-', '--'])\n",
    "\n",
    "# Plot support vectors\n",
    "ax.scatter(svm.support_vectors_[:, 0], svm.support_vectors_[:, 1], s=100, facecolors='none', edgecolors='k')\n",
    "plt.show()\n",
    "\n",
    "# Question: What are support vectors and why are they important in SVM?"
   ]
  },
  {
   "cell_type": "code",
   "execution_count": null,
   "metadata": {},
   "outputs": [],
   "source": [
    "svm.support_vectors_"
   ]
  },
  {
   "cell_type": "markdown",
   "metadata": {},
   "source": [
    "### 11. Make circles dataset again."
   ]
  },
  {
   "cell_type": "code",
   "execution_count": null,
   "metadata": {},
   "outputs": [],
   "source": [
    "# Generate random circles dataset\n",
    "X, y = make_circles(n_samples=100, noise=0.05, factor=0.5, random_state=42)\n",
    "\n",
    "# Plot the dataset\n",
    "plt.scatter(X[:, 0], X[:, 1], c=y, cmap='viridis')\n",
    "plt.xlabel('X')\n",
    "plt.ylabel('Y')\n",
    "plt.title('Random Circles Dataset')\n",
    "plt.show()"
   ]
  },
  {
   "cell_type": "markdown",
   "metadata": {},
   "source": [
    "### 12. Project to 3d space"
   ]
  },
  {
   "cell_type": "code",
   "execution_count": null,
   "metadata": {},
   "outputs": [],
   "source": [
    "# Calculate the z values\n",
    "z = X[:, 0]**2 + X[:, 1]**2\n",
    "\n",
    "# Create a 3D scatter plot\n",
    "fig = go.Figure(data=[go.Scatter3d(x=X[:, 0], y=X[:, 1], z=z, mode='markers', \n",
    "                                   marker=dict(color=y, colorscale='Viridis', size=5))])\n",
    "\n",
    "# Adjust the view to look from the top of the z-axis\n",
    "camera = dict(up=dict(x=0, y=0, z=4), center=dict(x=0, y=0, z=0), eye=dict(x=0, y=0, z=2.4))\n",
    "fig.update_layout(scene=dict(xaxis_title='Y', yaxis_title='X', zaxis_title='Z', \n",
    "                             camera=camera), \n",
    "                  title='Support Vector Machine Kernel Visualised')\n",
    "fig.show()\n",
    "\n",
    "# Create the interactive HTML plot\n",
    "# pyo.plot(fig, filename='06_Kernel_3d_plot.html')"
   ]
  },
  {
   "cell_type": "markdown",
   "metadata": {},
   "source": [
    "### 13. Fit SVM to 3d dataset."
   ]
  },
  {
   "cell_type": "code",
   "execution_count": 14,
   "metadata": {},
   "outputs": [],
   "source": [
    "# Add z as the third dimension to X\n",
    "X_3d = np.hstack((X, z.reshape(-1, 1)))\n",
    "# **** TODO ****\n",
    "# Create an instance of the SVC class with a linear kernel\n",
    "\n",
    "\n",
    "# Fit the model to the 3D data\n"
   ]
  },
  {
   "cell_type": "code",
   "execution_count": null,
   "metadata": {},
   "outputs": [],
   "source": [
    "svm_3d.support_vectors_"
   ]
  },
  {
   "cell_type": "markdown",
   "metadata": {},
   "source": [
    "### 14. Plot the solution and the support vectors."
   ]
  },
  {
   "cell_type": "code",
   "execution_count": null,
   "metadata": {},
   "outputs": [],
   "source": [
    "# Create a meshgrid for the separating plane\n",
    "xx, yy = np.meshgrid(np.linspace(X[:, 0].min(), X[:, 0].max(), 30), \n",
    "                     np.linspace(X[:, 1].min(), X[:, 1].max(), 30))\n",
    "zz = (-svm_3d.intercept_[0] - svm_3d.coef_[0][0] * xx - svm_3d.coef_[0][1] * yy) / svm_3d.coef_[0][2]\n",
    "\n",
    "# Create the 3D scatter plot with the separating plane\n",
    "fig = go.Figure(data=[go.Scatter3d(x=X[:, 0], y=X[:, 1], z=z, mode='markers', \n",
    "                                   marker=dict(color=y, colorscale='Viridis', size=5)),\n",
    "                      go.Surface(x=xx, y=yy, z=zz, colorscale=[[0, 'blue'], [1, 'blue']], opacity=0.2),\n",
    "                      go.Scatter3d(x=svm_3d.support_vectors_[:, 0], \n",
    "                                   y=svm_3d.support_vectors_[:, 1], \n",
    "                                   z=svm_3d.support_vectors_[:, 2], \n",
    "                                   mode='markers', \n",
    "                                   marker=dict(color='red', size=5, symbol='circle'))])\n",
    "\n",
    "# Adjust the view to look from the top of the z-axis\n",
    "camera = dict(up=dict(x=0, y=0, z=4), center=dict(x=0, y=0, z=0), eye=dict(x=0, y=0, z=2.4))\n",
    "fig.update_layout(scene=dict(xaxis_title='Y', yaxis_title='X', zaxis_title='Z', \n",
    "                             camera=camera), \n",
    "                  title='Support Vector Machine Kernel Visualised with Separating Plane and Support Vectors')\n",
    "fig.show()\n",
    "# pyo.plot(fig, filename='06_Kernel_3d_plot_With_Support_Vectors.html')"
   ]
  },
  {
   "cell_type": "markdown",
   "metadata": {},
   "source": [
    "### 15.  Create Linearly Inseparable Points\n",
    "Use the make_blobs function from sklearn.datasets to create a set of linearly inseparable points."
   ]
  },
  {
   "cell_type": "code",
   "execution_count": null,
   "metadata": {},
   "outputs": [],
   "source": [
    "# **** TODO **** Create linearly inseparable points\n",
    "\n",
    "\n",
    "# Plot the points\n",
    "plt.scatter(X[:, 0], X[:, 1], c=y, s=30, cmap=plt.cm.Paired)\n",
    "plt.show()"
   ]
  },
  {
   "cell_type": "markdown",
   "metadata": {},
   "source": [
    "### 16.  Fit the SVM Model\n",
    "Create an instance of the SVC class with a polynomial kernel, and fit the model to the data."
   ]
  },
  {
   "cell_type": "code",
   "execution_count": 18,
   "metadata": {},
   "outputs": [],
   "source": [
    "# **** TODO **** Create an instance of the SVC class with a polynomial kernel\n",
    "\n",
    "\n",
    "# Fit the model to the data\n"
   ]
  },
  {
   "cell_type": "markdown",
   "metadata": {},
   "source": [
    "### 17.  Visualize the Dataset Again\n",
    "Visualize the dataset again after fitting the model."
   ]
  },
  {
   "cell_type": "code",
   "execution_count": null,
   "metadata": {},
   "outputs": [],
   "source": [
    "# Plot the dataset\n",
    "plt.scatter(X[:, 0], X[:, 1], c=y, s=30, cmap=plt.cm.Paired)\n",
    "\n",
    "# Plot the decision function\n",
    "ax = plt.gca()\n",
    "xlim = ax.get_xlim()\n",
    "ylim = ax.get_ylim()\n",
    "\n",
    "# Create grid to evaluate model\n",
    "xx = np.linspace(xlim[0], xlim[1], 30)\n",
    "yy = np.linspace(ylim[0], ylim[1], 30)\n",
    "YY, XX = np.meshgrid(yy, xx)\n",
    "xy = np.vstack([XX.ravel(), YY.ravel()]).T\n",
    "Z = svm.decision_function(xy).reshape(XX.shape)\n",
    "\n",
    "# Plot decision boundary and margins\n",
    "ax.contour(XX, YY, Z, colors='k', levels=[-1, 0, 1], alpha=0.5, linestyles=['--', '-', '--'])\n",
    "\n",
    "# Plot support vectors\n",
    "ax.scatter(svm.support_vectors_[:, 0], svm.support_vectors_[:, 1], s=100, facecolors='none', edgecolors='k')\n",
    "\n",
    "# Show the plot\n",
    "plt.show()"
   ]
  },
  {
   "cell_type": "code",
   "execution_count": null,
   "metadata": {},
   "outputs": [],
   "source": [
    "svm.support_vectors_"
   ]
  }
 ],
 "metadata": {
  "kernelspec": {
   "display_name": ".venv",
   "language": "python",
   "name": "python3"
  },
  "language_info": {
   "codemirror_mode": {
    "name": "ipython",
    "version": 3
   },
   "file_extension": ".py",
   "mimetype": "text/x-python",
   "name": "python",
   "nbconvert_exporter": "python",
   "pygments_lexer": "ipython3",
   "version": "3.12.7"
  }
 },
 "nbformat": 4,
 "nbformat_minor": 2
}
