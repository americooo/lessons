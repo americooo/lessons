{
 "cells": [
  {
   "cell_type": "code",
   "execution_count": 2,
   "metadata": {},
   "outputs": [
    {
     "ename": "ModuleNotFoundError",
     "evalue": "No module named 'pandas'",
     "output_type": "error",
     "traceback": [
      "\u001b[0;31m---------------------------------------------------------------------------\u001b[0m",
      "\u001b[0;31mModuleNotFoundError\u001b[0m                       Traceback (most recent call last)",
      "Cell \u001b[0;32mIn[2], line 1\u001b[0m\n\u001b[0;32m----> 1\u001b[0m \u001b[38;5;28;01mimport\u001b[39;00m \u001b[38;5;21;01mpandas\u001b[39;00m \u001b[38;5;28;01mas\u001b[39;00m \u001b[38;5;21;01mpd\u001b[39;00m\n\u001b[1;32m      3\u001b[0m \u001b[38;5;66;03m# Load dataset\u001b[39;00m\n\u001b[1;32m      4\u001b[0m data \u001b[38;5;241m=\u001b[39m pd\u001b[38;5;241m.\u001b[39mread_csv(\u001b[38;5;124m'\u001b[39m\u001b[38;5;124m/home/amir/Desktop/Python Codes/IBM  lessons/employee_dataset.csv\u001b[39m\u001b[38;5;124m'\u001b[39m)\n",
      "\u001b[0;31mModuleNotFoundError\u001b[0m: No module named 'pandas'"
     ]
    }
   ],
   "source": [
    "\n",
    "import pandas as pd\n",
    "\n",
    "# Load dataset\n",
    "data = pd.read_csv('/home/amir/Desktop/Python Codes/IBM  lessons/employee_dataset.csv')\n",
    "\n",
    "# Step 1: Fill missing values\n",
    "# Fill numerical columns with mean\n",
    "data['Age'].fillna(data['Age'].mean(), inplace=True)\n",
    "data['MonthlySalary'].fillna(data['MonthlySalary'].mean(), inplace=True)\n",
    "data['ExperienceYears'].fillna(data['ExperienceYears'].median(), inplace=True)\n",
    "data['PerformanceScore'].fillna(data['PerformanceScore'].mode()[0], inplace=True)\n",
    "\n",
    "# Step 2: Drop rows or columns with excessive missing data\n",
    "# In this case, no column has excessive missing data, so no column is dropped\n",
    "# Check if any rows have excessive missing values\n",
    "threshold = 0.5  # Drop rows with more than 50% missing values\n",
    "row_missing_ratio = data.isnull().sum(axis=1) / data.shape[1]\n",
    "data = data[row_missing_ratio <= threshold]\n",
    "\n",
    "# Save the processed dataset\n",
    "data.to_csv('/mnt/data/processed_employee_dataset.csv', index=False)\n"
   ]
  }
 ],
 "metadata": {
  "kernelspec": {
   "display_name": ".venv",
   "language": "python",
   "name": "python3"
  },
  "language_info": {
   "codemirror_mode": {
    "name": "ipython",
    "version": 3
   },
   "file_extension": ".py",
   "mimetype": "text/x-python",
   "name": "python",
   "nbconvert_exporter": "python",
   "pygments_lexer": "ipython3",
   "version": "3.12.7"
  }
 },
 "nbformat": 4,
 "nbformat_minor": 2
}
